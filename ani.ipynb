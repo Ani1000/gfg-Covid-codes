

import pandas as pd
from sklearn.ensemble import RandomForestRegressor
from sklearn.metrics import mean_absolute_srror
from sklearn.model_selction import trin_test_spilt

from sklearn.tree import DescionTreeRegressor

import os
if not os.path.exists("..//input/trian.csv"):


 start from reading thr file

